{
 "cells": [
  {
   "cell_type": "code",
   "execution_count": 1,
   "id": "c8223e19",
   "metadata": {},
   "outputs": [],
   "source": [
    "import imageio\n",
    "import glob\n",
    "\n",
    "images = []\n",
    "\n",
    "files = glob.glob('/Users/amberverstynen/Documents/S5P/O3/August/Plots/*.png')\n",
    "\n",
    "files_sorted = sorted(files)\n",
    "\n",
    "for filename in files_sorted:\n",
    "    images.append(imageio.imread(filename))\n",
    "    \n",
    "kargs = {'duration':0.75}\n",
    "\n",
    "imageio.mimsave('/Users/amberverstynen/Documents/S5P/O3/August/Plots/O3_Aug_Tropomi.gif',images,**kargs)"
   ]
  },
  {
   "cell_type": "code",
   "execution_count": null,
   "id": "10da990f",
   "metadata": {},
   "outputs": [],
   "source": []
  }
 ],
 "metadata": {
  "kernelspec": {
   "display_name": "Python 3 (ipykernel)",
   "language": "python",
   "name": "python3"
  },
  "language_info": {
   "codemirror_mode": {
    "name": "ipython",
    "version": 3
   },
   "file_extension": ".py",
   "mimetype": "text/x-python",
   "name": "python",
   "nbconvert_exporter": "python",
   "pygments_lexer": "ipython3",
   "version": "3.9.12"
  }
 },
 "nbformat": 4,
 "nbformat_minor": 5
}
